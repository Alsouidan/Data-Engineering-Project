{
  "nbformat": 4,
  "nbformat_minor": 0,
  "metadata": {
    "colab": {
      "name": "Milestone3Visualization.ipynb",
      "provenance": [],
      "collapsed_sections": []
    },
    "kernelspec": {
      "name": "python3",
      "display_name": "Python 3"
    }
  },
  "cells": [
    {
      "cell_type": "code",
      "metadata": {
        "colab": {
          "base_uri": "https://localhost:8080/",
          "height": 372
        },
        "id": "RLCHoQwWP5sD",
        "outputId": "a4a40715-8c3f-4fdb-df68-6a21d4240a9f"
      },
      "source": [
        "import pandas as pd\r\n",
        "import matplotlib.pyplot as plt\r\n",
        "import urllib, json\r\n",
        "import seaborn as sns\r\n",
        "import json\r\n",
        "final_data=pd.read_csv(\"https://raw.githubusercontent.com/Alsouidan/shared-data-CSEN-1095/main/Final%20Data1.csv\")\r\n",
        "with open(\"oldTweetSentiments.json\") as fp:\r\n",
        "  tweet_scores=json.load(fp)\r\n",
        "print(tweet_scores)\r\n",
        "canada_row=final_data.loc[final_data.Country==\"Canada\"]\r\n",
        "rwanda_row=final_data.loc[final_data.Country==\"Rwanda\"]\r\n",
        "\r\n",
        "canada_happiness=canada_row[\"Happiness Score\"].values[0]\r\n",
        "rwanda_happiness=rwanda_row[\"Happiness Score\"].values[0]\r\n",
        "\r\n",
        "fig = plt.figure()\r\n",
        "ax = fig.add_axes([0,0,1,1])\r\n",
        "langs = ['Canada',\"Rwanda\"]\r\n",
        "values = [canada_happiness,rwanda_happiness]\r\n",
        "ax.bar(langs,values)\r\n",
        "plt.show()"
      ],
      "execution_count": 10,
      "outputs": [
        {
          "output_type": "stream",
          "text": [
            "{'canada': [0.20625, 0.39444444444444443, 0.2333333333333333, 0.5, 0.0, 0.0, 0.13333333333333333, -0.5, 0.0, -0.04375000000000001, 0.0, 0.0, 0.0, 0.43333333333333335, 0.19999999999999998, 0.0, 0.44285714285714284, 0.30952380952380953, 0.0, -0.625, -0.21851851851851853, 0.8, 0.024999999999999994, 0.0, 0.0, 0.0, 0.10714285714285714, 0.0, 0.0, 0.0, -0.25, 0.0, 0.0, -0.09765625, 0.0, 0.5, 0.0, 0.9, 0.0, -0.09999999999999995, 0.4, 0.0, 0.0, 0.5, 0.0, 0.0, 0.4, 0.2, 0.042857142857142844, 0.0, 0.17045454545454544, 0.0, 0.0, 0.0, 1.0, 0.25, 0.0, 0.25, 0.0, 0.7, 0.0, 0.0, 0.10000000000000002, -0.44999999999999996, 0.3111111111111111, 0.35, 0.0, 0.0, -0.23125, 0.0, 0.20000000000000004, -0.21666666666666667, 0.3666666666666667, 1.0, 0.0, 0.5, -0.08333333333333333, 0.0, 0.0, 0.0], 'rwanda': [0.0, 0.0, 0.6000000000000001, 0.02187499999999999, 0.8250000000000001, 0.16666666666666666, -0.23333333333333328, -0.08333333333333333, 0.0, 0.0, 0.0, 0.0, 0.0, 0.0, 0.4681818181818182, 0.0, 0.0, -0.016666666666666663, 0.0, 0.0, 0.0, 0.9, 0.0, 0.8, 0.24545454545454545, 0.0, 0.8, 0.0, 0.07102272727272727, 0.0, 0.024999999999999994, 0.45, 0.17532467532467533, 0.0, 0.0, 0.0, 0.13636363636363635, 0.3, 0.25, 0.07662337662337662, 0.0, 0.0, 0.0, 0.0, -0.2, 0.5, 0.0, 0.26, 0.0, 0.05, 0.05, 0.2583333333333333, 1.0, 0.0, 0.0, 0.075, 0.0, 0.2, -0.6999999999999998, 0.0, -0.5, 0.5, 0.0, -0.5, 0.0, -0.13333333333333333, -0.2, 0.05000000000000001, 0.6, 0.6000000000000001, -0.03888888888888889, 0.0, 0.7000000000000001, 0.0, 0.35625, 0.16666666666666669, 0.6, 0.5, -0.13333333333333333, -0.008333333333333304], 'timestamps': ['2021-01-04 02:09:02', '2021-01-05 02:41:49', '2021-01-06 02:03:29', '2021-01-07 02:04:05']}\n"
          ],
          "name": "stdout"
        },
        {
          "output_type": "display_data",
          "data": {
            "image/png": "[encoded data removed]",
            "text/plain": [
              "<Figure size 432x288 with 1 Axes>"
            ]
          },
          "metadata": {
            "tags": [],
            "needs_background": "light"
          }
        }
      ]
    },
    {
      "cell_type": "code",
      "metadata": {
        "colab": {
          "base_uri": "https://localhost:8080/",
          "height": 368
        },
        "id": "T4HpnetpQjx0",
        "outputId": "7e205db7-cc02-41d7-f779-0f2892772ace"
      },
      "source": [
        "fig = plt.figure()\r\n",
        "ax = fig.add_axes([0,0,1,1])\r\n",
        "canada_score=sum(tweet_scores[\"canada\"])/len(tweet_scores[\"canada\"])\r\n",
        "rwanda_score=sum(tweet_scores[\"rwanda\"])/len(tweet_scores[\"rwanda\"])\r\n",
        "langs = ['Canada',\"Rwanda\"]\r\n",
        "values = [canada_score,rwanda_score]\r\n",
        "ax.bar(langs,values)\r\n",
        "plt.show()\r\n",
        "print(\"TimeStamps\")\r\n",
        "print(tweet_scores[\"timestamps\"])"
      ],
      "execution_count": 13,
      "outputs": [
        {
          "output_type": "display_data",
          "data": {
            "image/png": "[encoded data removed]",
            "text/plain": [
              "<Figure size 432x288 with 1 Axes>"
            ]
          },
          "metadata": {
            "tags": [],
            "needs_background": "light"
          }
        },
        {
          "output_type": "stream",
          "text": [
            "TimeStamps\n",
            "['2021-01-04 02:09:02', '2021-01-05 02:41:49', '2021-01-06 02:03:29', '2021-01-07 02:04:05']\n"
          ],
          "name": "stdout"
        }
      ]
    },
    {
      "cell_type": "markdown",
      "metadata": {
        "id": "FSRWzSocUAN2"
      },
      "source": [
        "This data was collected over the course of four days using Airflow the DAG file is in the repository of github, as we can see Rwanda scored higher sentiments in the four days than canada, contrary to belief ."
      ]
    }
  ]
}